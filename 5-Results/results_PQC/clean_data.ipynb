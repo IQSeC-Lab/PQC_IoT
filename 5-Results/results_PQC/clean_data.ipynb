{
 "cells": [
  {
   "cell_type": "code",
   "execution_count": 37,
   "metadata": {},
   "outputs": [],
   "source": [
    "import pandas as pd\n",
    "file = \"client_kyber1024_benchmark.csv\"\n",
    "# Load your dataset\n",
    "df = pd.read_csv(file)\n",
    "\n",
    "# Convert the 'timestamp' column to datetime\n",
    "df[\"timestamp\"] = pd.to_datetime(df[\"timestamp\"])\n",
    "\n",
    "# Convert to datetime and overwrite the original column with only time\n",
    "df[\"timestamp\"] = pd.to_datetime(df[\"timestamp\"]).dt.strftime(\"%H:%M:%S\")"
   ]
  },
  {
   "cell_type": "code",
   "execution_count": 38,
   "metadata": {},
   "outputs": [
    {
     "name": "stdout",
     "output_type": "stream",
     "text": [
      "  timestamp wall_time_seconds  memory_kb  user_time_seconds  sys_time_seconds\n",
      "0  05:33:07           0:00.07       5888               0.02              0.01\n",
      "1  05:33:12           0:00.04       5888               0.03              0.00\n",
      "2  05:33:17           0:00.05       5888               0.04              0.00\n",
      "3  05:33:22           0:00.04       5888               0.02              0.01\n",
      "4  05:33:27           0:00.04       5888               0.02              0.01\n"
     ]
    }
   ],
   "source": [
    "print(df.head())"
   ]
  },
  {
   "cell_type": "code",
   "execution_count": 39,
   "metadata": {},
   "outputs": [],
   "source": [
    "df.to_csv(file, index=False)\n"
   ]
  },
  {
   "cell_type": "code",
   "execution_count": 2,
   "metadata": {},
   "outputs": [
    {
     "name": "stdout",
     "output_type": "stream",
     "text": [
      "Printing Kyber1024 benchmark data with 59 communications\n"
     ]
    }
   ],
   "source": [
    "import pandas as pd \n",
    "file = \"client_kyber1024_benchmark.csv\"\n",
    "# Load your dataset\n",
    "df = pd.read_csv(file)\n",
    "total_length = len(df)\n",
    "print(f'Printing Kyber1024 benchmark data with {total_length} communications')"
   ]
  },
  {
   "cell_type": "code",
   "execution_count": 5,
   "metadata": {},
   "outputs": [
    {
     "name": "stdout",
     "output_type": "stream",
     "text": [
      "Printing Kyber512 benchmark data with 59 communications\n"
     ]
    }
   ],
   "source": [
    "file = \"client_kyber512_benchmark.csv\"\n",
    "# Load your dataset\n",
    "df = pd.read_csv(file)\n",
    "total_length = len(df)\n",
    "print(f'Printing Kyber512 benchmark data with {total_length} communications')"
   ]
  },
  {
   "cell_type": "code",
   "execution_count": 6,
   "metadata": {},
   "outputs": [
    {
     "name": "stdout",
     "output_type": "stream",
     "text": [
      "Printing Kyber768 benchmark data with 59 communications\n"
     ]
    }
   ],
   "source": [
    "file = \"client_kyber768_benchmark.csv\"\n",
    "# Load your dataset\n",
    "df = pd.read_csv(file)\n",
    "total_length = len(df)\n",
    "print(f'Printing Kyber768 benchmark data with {total_length} communications')"
   ]
  },
  {
   "cell_type": "code",
   "execution_count": 2,
   "metadata": {},
   "outputs": [
    {
     "name": "stdout",
     "output_type": "stream",
     "text": [
      "   timestamp  cpu_usage_percent\n",
      "0   06:03:34          27.272727\n",
      "1   06:03:39          50.000000\n",
      "2   06:03:44          50.000000\n",
      "3   06:03:49          37.500000\n",
      "4   06:03:55          50.000000\n",
      "5   06:04:00          50.000000\n",
      "6   06:04:05          50.000000\n",
      "7   06:04:10          50.000000\n",
      "8   06:04:15          50.000000\n",
      "9   06:04:21          50.000000\n",
      "10  06:04:26          50.000000\n",
      "11  06:04:31          62.500000\n",
      "12  06:04:36          50.000000\n",
      "13  06:04:41          50.000000\n",
      "14  06:04:46          50.000000\n",
      "15  06:04:52          50.000000\n",
      "16  06:04:57          37.500000\n",
      "17  06:05:02          50.000000\n",
      "18  06:05:07          50.000000\n",
      "19  06:05:12          50.000000\n",
      "20  06:05:18          37.500000\n",
      "21  06:05:23          44.444444\n",
      "22  06:05:28          50.000000\n",
      "23  06:05:33          50.000000\n",
      "24  06:05:38          37.500000\n",
      "25  06:05:43          50.000000\n",
      "26  06:05:49          50.000000\n",
      "27  06:05:54          50.000000\n",
      "28  06:05:59          50.000000\n",
      "29  06:06:04          37.500000\n",
      "30  06:06:09          44.444444\n",
      "31  06:06:14          50.000000\n",
      "32  06:06:20          50.000000\n",
      "33  06:06:25          50.000000\n",
      "34  06:06:30          37.500000\n",
      "35  06:06:35          50.000000\n",
      "36  06:06:40          37.500000\n",
      "37  06:06:45          50.000000\n",
      "38  06:06:51          50.000000\n",
      "39  06:06:56          50.000000\n",
      "40  06:07:01          37.500000\n",
      "41  06:07:06          42.857143\n",
      "42  06:07:11          50.000000\n",
      "43  06:07:17          37.500000\n",
      "44  06:07:22          50.000000\n",
      "45  06:07:27          50.000000\n",
      "46  06:07:32          37.500000\n",
      "47  06:07:37          57.142857\n",
      "48  06:07:42          50.000000\n",
      "49  06:07:48          37.500000\n",
      "50  06:07:53          50.000000\n",
      "51  06:07:58          37.500000\n",
      "52  06:08:03          50.000000\n",
      "53  06:08:08          50.000000\n",
      "54  06:08:13          50.000000\n",
      "55  06:08:19          37.500000\n",
      "56  06:08:24          50.000000\n",
      "57  06:08:29          37.500000\n"
     ]
    }
   ],
   "source": [
    "import pandas as pd\n",
    "\n",
    "# Load your data\n",
    "df = pd.read_csv(\"client_bikel1_benchmark.csv\")  # Replace with your actual file path\n",
    "\n",
    "# Convert wall_time_seconds to float (e.g., '0:00.08' to 0.08 seconds)\n",
    "df['wall_time_seconds'] = df['wall_time_seconds'].apply(lambda x: sum(float(t) * 60 ** i for i, t in enumerate(reversed(x.split(\":\")))))\n",
    "\n",
    "# Calculate total CPU time (user + sys)\n",
    "df['cpu_time'] = df['user_time_seconds'] + df['sys_time_seconds']\n",
    "\n",
    "# Calculate CPU usage percentage\n",
    "df['cpu_usage_percent'] = (df['cpu_time'] / df['wall_time_seconds']) * 100\n",
    "\n",
    "# Display the result\n",
    "print(df[['timestamp', 'cpu_usage_percent']])\n"
   ]
  },
  {
   "cell_type": "code",
   "execution_count": null,
   "metadata": {},
   "outputs": [],
   "source": []
  },
  {
   "cell_type": "code",
   "execution_count": null,
   "metadata": {},
   "outputs": [],
   "source": []
  }
 ],
 "metadata": {
  "kernelspec": {
   "display_name": "3.10.12",
   "language": "python",
   "name": "python3"
  },
  "language_info": {
   "codemirror_mode": {
    "name": "ipython",
    "version": 3
   },
   "file_extension": ".py",
   "mimetype": "text/x-python",
   "name": "python",
   "nbconvert_exporter": "python",
   "pygments_lexer": "ipython3",
   "version": "3.10.12"
  }
 },
 "nbformat": 4,
 "nbformat_minor": 2
}
