{
 "cells": [
  {
   "cell_type": "code",
   "execution_count": 37,
   "metadata": {},
   "outputs": [],
   "source": [
    "import pandas as pd\n",
    "file = \"client_kyber1024_benchmark.csv\"\n",
    "# Load your dataset\n",
    "df = pd.read_csv(file)\n",
    "\n",
    "# Convert the 'timestamp' column to datetime\n",
    "df[\"timestamp\"] = pd.to_datetime(df[\"timestamp\"])\n",
    "\n",
    "# Convert to datetime and overwrite the original column with only time\n",
    "df[\"timestamp\"] = pd.to_datetime(df[\"timestamp\"]).dt.strftime(\"%H:%M:%S\")"
   ]
  },
  {
   "cell_type": "code",
   "execution_count": 38,
   "metadata": {},
   "outputs": [
    {
     "name": "stdout",
     "output_type": "stream",
     "text": [
      "  timestamp wall_time_seconds  memory_kb  user_time_seconds  sys_time_seconds\n",
      "0  05:33:07           0:00.07       5888               0.02              0.01\n",
      "1  05:33:12           0:00.04       5888               0.03              0.00\n",
      "2  05:33:17           0:00.05       5888               0.04              0.00\n",
      "3  05:33:22           0:00.04       5888               0.02              0.01\n",
      "4  05:33:27           0:00.04       5888               0.02              0.01\n"
     ]
    }
   ],
   "source": [
    "print(df.head())"
   ]
  },
  {
   "cell_type": "code",
   "execution_count": 39,
   "metadata": {},
   "outputs": [],
   "source": [
    "df.to_csv(file, index=False)\n"
   ]
  },
  {
   "cell_type": "code",
   "execution_count": 2,
   "metadata": {},
   "outputs": [
    {
     "name": "stdout",
     "output_type": "stream",
     "text": [
      "Printing Kyber1024 benchmark data with 59 communications\n"
     ]
    }
   ],
   "source": [
    "import pandas as pd \n",
    "file = \"client_kyber1024_benchmark.csv\"\n",
    "# Load your dataset\n",
    "df = pd.read_csv(file)\n",
    "total_length = len(df)\n",
    "print(f'Printing Kyber1024 benchmark data with {total_length} communications')"
   ]
  },
  {
   "cell_type": "code",
   "execution_count": 5,
   "metadata": {},
   "outputs": [
    {
     "name": "stdout",
     "output_type": "stream",
     "text": [
      "Printing Kyber512 benchmark data with 59 communications\n"
     ]
    }
   ],
   "source": [
    "file = \"client_kyber512_benchmark.csv\"\n",
    "# Load your dataset\n",
    "df = pd.read_csv(file)\n",
    "total_length = len(df)\n",
    "print(f'Printing Kyber512 benchmark data with {total_length} communications')"
   ]
  },
  {
   "cell_type": "code",
   "execution_count": 6,
   "metadata": {},
   "outputs": [
    {
     "name": "stdout",
     "output_type": "stream",
     "text": [
      "Printing Kyber768 benchmark data with 59 communications\n"
     ]
    }
   ],
   "source": [
    "file = \"client_kyber768_benchmark.csv\"\n",
    "# Load your dataset\n",
    "df = pd.read_csv(file)\n",
    "total_length = len(df)\n",
    "print(f'Printing Kyber768 benchmark data with {total_length} communications')"
   ]
  },
  {
   "cell_type": "code",
   "execution_count": null,
   "metadata": {},
   "outputs": [],
   "source": []
  }
 ],
 "metadata": {
  "kernelspec": {
   "display_name": "3.10.12",
   "language": "python",
   "name": "python3"
  },
  "language_info": {
   "codemirror_mode": {
    "name": "ipython",
    "version": 3
   },
   "file_extension": ".py",
   "mimetype": "text/x-python",
   "name": "python",
   "nbconvert_exporter": "python",
   "pygments_lexer": "ipython3",
   "version": "3.10.12"
  }
 },
 "nbformat": 4,
 "nbformat_minor": 2
}
